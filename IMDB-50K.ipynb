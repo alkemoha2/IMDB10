{
 "cells": [
  {
   "cell_type": "markdown",
   "metadata": {
    "id": "YGdtcumKK4HA"
   },
   "source": [
    "NLP Dataset: IMDB-50K Movie Review dataset comprising of 50K movie reviews. Deep neural network on the IMDB-50K dataset.\n"
   ]
  },
  {
   "cell_type": "markdown",
   "metadata": {
    "id": "CwxjkLQRhruN"
   },
   "source": [
    "## 1. Import Libraries/Dataset"
   ]
  },
  {
   "cell_type": "code",
   "execution_count": 35,
   "metadata": {
    "id": "-hVKKkYvRrDE"
   },
   "outputs": [],
   "source": [
    "import tensorflow as tf\n",
    "import time\n",
    "import matplotlib.pyplot as plt\n",
    "from sklearn.metrics import ConfusionMatrixDisplay\n",
    "import numpy as np\n",
    "from sklearn.metrics import classification_report\n",
    "from tensorflow.keras import regularizers\n",
    "import pandas as pd \n",
    "import seaborn as sns"
   ]
  },
  {
   "cell_type": "code",
   "execution_count": 36,
   "metadata": {
    "id": "wXz_rTvBweUn"
   },
   "outputs": [],
   "source": [
    "# helper functions\n",
    "def plot_learning_progress_loss(history):\n",
    "    plt.rcParams[\"figure.figsize\"] = (5,5)\n",
    "    plt.plot(history.history['loss'])\n",
    "    plt.plot(history.history['val_loss'])\n",
    "    plt.title('Loss vs epochs')\n",
    "    plt.ylabel('Loss')\n",
    "    plt.xlabel('Epoch')\n",
    "    plt.legend(['Training','Validation'],loc='upper right')\n",
    "    plt.show()\n",
    "def plot_learning_progress_accuracy(history):\n",
    "    plt.rcParams[\"figure.figsize\"] = (5,5)\n",
    "    plt.plot(history.history['accuracy'])\n",
    "    plt.plot(history.history['val_accuracy'])\n",
    "    plt.title('Accuracy vs epochs')\n",
    "    plt.ylabel('Accuracy')\n",
    "    plt.xlabel('Epoch')\n",
    "    plt.legend(['Training','Validation'],loc='upper left')\n",
    "    plt.show()   \n",
    "def display_model_performance(model,x_test,y_test,display_labels):\n",
    "    y_prob=model.predict(X_test)\n",
    "    y_pred=np.round(y_prob)\n",
    "    cm=tf.math.confusion_matrix(y_test,y_pred)\n",
    "    print(cm)\n",
    "    cm_n = cm.numpy()\n",
    "    cm_n_norm = cm_n.astype('float') / cm_n.sum(axis=1)[:, np.newaxis]\n",
    "    plt.rcParams[\"figure.figsize\"] = (7,7)\n",
    "    ConfusionMatrixDisplay(cm_n_norm,display_labels=display_labels).plot()  \n",
    "    print('\\nClassification Report\\n')\n",
    "    c_r=classification_report(y_test, y_pred, target_names=display_labels)\n",
    "    print(c_r) "
   ]
  },
  {
   "cell_type": "code",
   "execution_count": 37,
   "metadata": {
    "colab": {
     "base_uri": "https://localhost:8080/",
     "height": 33
    },
    "id": "0qZVzh1ihA68",
    "outputId": "198496d2-2917-4c36-df29-0536e0d4bbf7"
   },
   "outputs": [
    {
     "name": "stdout",
     "output_type": "stream",
     "text": [
      "GPU is available\n"
     ]
    }
   ],
   "source": [
    "# Is GPU Available?\n",
    "print(\"GPU is\", \"available\" if tf.config.experimental.list_physical_devices(\"GPU\") else \"NOT AVAILABLE\")"
   ]
  },
  {
   "cell_type": "code",
   "execution_count": 38,
   "metadata": {
    "id": "Llxs4DL_R1ZA"
   },
   "outputs": [],
   "source": [
    "# Get imdb data\n",
    "imdb = tf.keras.datasets.imdb\n",
    "(x_train,y_train),(x_test,y_test) = imdb.load_data(num_words=10000)\n",
    "imdb_labels= ['Negative','Positive']"
   ]
  },
  {
   "cell_type": "markdown",
   "metadata": {
    "id": "xGoV44CRh1o1"
   },
   "source": [
    "## 2. Data Visualization"
   ]
  },
  {
   "cell_type": "code",
   "execution_count": 39,
   "metadata": {
    "id": "P-4TEGcmrFCh"
   },
   "outputs": [],
   "source": [
    "def decode_review(imdb, x_train, index):\n",
    "  # Let's quickly decode a review\n",
    "\n",
    "  # step 1: load the dictionary mappings from word to integer index\n",
    "  word_index = imdb.get_word_index()\n",
    "\n",
    "  # step 2: reverse word index to map integer indexes to their respective words\n",
    "  reverse_word_index = dict([(value, key) for (key, value) in word_index.items()])\n",
    "\n",
    "  # Step 3: decode the review, mapping integer indices to words\n",
    "  #\n",
    "  # indices are off by 3 because 0, 1, and 2 are reserverd indices for \"padding\", \"Start of sequence\" and \"unknown\"\n",
    "  decoded_review = ' '.join([reverse_word_index.get(i-3, '?') for i in x_train[index]])\n",
    "\n",
    "  return decoded_review"
   ]
  },
  {
   "cell_type": "code",
   "execution_count": 47,
   "metadata": {
    "id": "jjQ6HuIdFrq1"
   },
   "outputs": [],
   "source": [
    "# print review function\n",
    "def print_review(no_of_record_to_print):\n",
    "  unique_classes= np.unique(y_train) # Get unique output class\n",
    "  for output_class in unique_classes:\n",
    "    count=0\n",
    "    print(f'\\n\\n{imdb_labels[output_class]} :\\n')\n",
    "    for idx, review in enumerate(y_train): \n",
    "      if review == output_class:    # is required output class\n",
    "        print(f'\\n{decode_review(imdb,x_train,idx)}') # print decoded review \n",
    "        count= count+ 1\n",
    "      if count == no_of_record_to_print: #stop if no of required record print \n",
    "        break"
   ]
  },
  {
   "cell_type": "code",
   "execution_count": 48,
   "metadata": {
    "colab": {
     "base_uri": "https://localhost:8080/",
     "height": 305
    },
    "id": "CnKcBkETF4jH",
    "outputId": "29f29935-7fc2-4d44-87b2-d104f1da308b"
   },
   "outputs": [
    {
     "name": "stdout",
     "output_type": "stream",
     "text": [
      "\n",
      "\n",
      "Negative :\n",
      "\n",
      "\n",
      "? big hair big boobs bad music and a giant safety pin these are the words to best describe this terrible movie i love cheesy horror movies and i've seen hundreds but this had got to be on of the worst ever made the plot is paper thin and ridiculous the acting is an abomination the script is completely laughable the best is the end showdown with the cop and how he worked out who the killer is it's just so damn terribly written the clothes are sickening and funny in equal ? the hair is big lots of boobs ? men wear those cut ? shirts that show off their ? sickening that men actually wore them and the music is just ? trash that plays over and over again in almost every scene there is trashy music boobs and ? taking away bodies and the gym still doesn't close for ? all joking aside this is a truly bad film whose only charm is to look back on the disaster that was the 80's and have a good old laugh at how bad everything was back then\n",
      "\n",
      "? this has to be one of the worst films of the 1990s when my friends i were watching this film being the target audience it was aimed at we just sat watched the first half an hour with our jaws touching the floor at how bad it really was the rest of the time everyone else in the theatre just started talking to each other leaving or generally crying into their popcorn that they actually paid money they had ? working to watch this feeble excuse for a film it must have looked like a great idea on paper but on film it looks like no one in the film has a clue what is going on crap acting crap costumes i can't get across how ? this is to watch save yourself an hour a bit of your life\n",
      "\n",
      "\n",
      "Positive :\n",
      "\n",
      "\n",
      "? this film was just brilliant casting location scenery story direction everyone's really suited the part they played and you could just imagine being there robert ? is an amazing actor and now the same being director ? father came from the same scottish island as myself so i loved the fact there was a real connection with this film the witty remarks throughout the film were great it was just brilliant so much that i bought the film as soon as it was released for ? and would recommend it to everyone to watch and the fly fishing was amazing really cried at the end it was so sad and you know what they say if you cry at a film it must have been good and this definitely was also ? to the two little boy's that played the ? of norman and paul they were just brilliant children are often left out of the ? list i think because the stars that play them all grown up are such a big profile for the whole film but these children are amazing and should be praised for what they have done don't you think the whole story was so lovely because it was true and was someone's life after all that was shared with us all\n",
      "\n",
      "? the ? ? at storytelling the traditional sort many years after the event i can still see in my ? eye an elderly lady my friend's mother retelling the battle of ? she makes the characters come alive her passion is that of an eye witness one to the events on the ? heath a mile or so from where she lives br br of course it happened many years before she was born but you wouldn't guess from the way she tells it the same story is told in bars the length and ? of scotland as i discussed it with a friend one night in ? a local cut in to give his version the discussion continued to closing time br br stories passed down like this become part of our being who doesn't remember the stories our parents told us when we were children they become our invisible world and as we grow older they maybe still serve as inspiration or as an emotional ? fact and fiction blend with ? role models warning stories ? magic and mystery br br my name is ? like my grandfather and his grandfather before him our protagonist introduces himself to us and also introduces the story that stretches back through generations it produces stories within stories stories that evoke the ? wonder of scotland its rugged mountains ? in ? the stuff of legend yet ? is ? in reality this is what gives it its special charm it has a rough beauty and authenticity ? with some of the finest ? singing you will ever hear br br ? ? visits his grandfather in hospital shortly before his death he burns with frustration part of him ? to be in the twenty first century to hang out in ? but he is raised on the western ? among a ? speaking community br br yet there is a deeper conflict within him he ? to know the truth the truth behind his ? ancient stories where does fiction end and he wants to know the truth behind the death of his parents br br he is pulled to make a last ? journey to the ? of one of ? most ? mountains can the truth be told or is it all in stories br br in this story about stories we ? bloody battles ? lovers the ? of old and the sometimes more ? ? of accepted truth in doing so we each connect with ? as he lives the story of his own life br br ? the ? ? is probably the most honest ? and genuinely beautiful film of scotland ever made like ? i got slightly annoyed with the ? of hanging stories on more stories but also like ? i ? this once i saw the ? picture ' forget the box office ? of braveheart and its like you might even ? the ? famous ? of the wicker man to see a film that is true to scotland this one is probably unique if you maybe ? on it deeply enough you might even re ? the power of storytelling and the age old question of whether there are some truths that cannot be told but only experienced\n"
     ]
    }
   ],
   "source": [
    "#print two review record of each class\n",
    "print_review(2)"
   ]
  },
  {
   "cell_type": "code",
   "execution_count": 8,
   "metadata": {
    "colab": {
     "base_uri": "https://localhost:8080/",
     "height": 332
    },
    "id": "gUnpFfNwF68U",
    "outputId": "8e84e7af-a04a-45f8-b84d-e297b90df72a"
   },
   "outputs": [
    {
     "name": "stdout",
     "output_type": "stream",
     "text": [
      "1    12500\n",
      "0    12500\n",
      "dtype: int64\n"
     ]
    },
    {
     "data": {
      "text/plain": [
       "<matplotlib.axes._subplots.AxesSubplot at 0x7ff239762d68>"
      ]
     },
     "execution_count": 8,
     "metadata": {
      "tags": []
     },
     "output_type": "execute_result"
    },
    {
     "data": {
      "image/png": "[encoded data removed]",
      "text/plain": [
       "<Figure size 432x288 with 1 Axes>"
      ]
     },
     "metadata": {
      "needs_background": "light",
      "tags": []
     },
     "output_type": "display_data"
    }
   ],
   "source": [
    "#Plot a bar graph of class distribution in dataset. Each bar depicts the number of tweets belonging to a particular sentiment.\n",
    "print(pd.value_counts(y_train))\n",
    "sns.countplot(x=y_train)"
   ]
  },
  {
   "cell_type": "code",
   "execution_count": 9,
   "metadata": {
    "colab": {
     "base_uri": "https://localhost:8080/",
     "height": 84
    },
    "id": "HCHYW6v0u-1A",
    "outputId": "39857a9b-d7ea-4aee-e038-0636debfb618"
   },
   "outputs": [
    {
     "name": "stdout",
     "output_type": "stream",
     "text": [
      "x_train.shape: \t (25000,)\n",
      "x_test.shape: \t (25000,)\n",
      "y_train.shape: \t (25000,)\n",
      "y_test.shape: \t (25000,)\n"
     ]
    }
   ],
   "source": [
    "#Print the shapes of train and test data.\n",
    "print(f'x_train.shape: \\t {x_train.shape}')\n",
    "print(f'x_test.shape: \\t {x_test.shape}')\n",
    "print(f'y_train.shape: \\t {y_train.shape}')\n",
    "print(f'y_test.shape: \\t {y_test.shape}')"
   ]
  },
  {
   "cell_type": "markdown",
   "metadata": {
    "id": "C2a52TXpihm2"
   },
   "source": [
    "## 3. Data Preprocessing\n",
    "\n",
    "Prepare the data in required vectorized format"
   ]
  },
  {
   "cell_type": "code",
   "execution_count": 10,
   "metadata": {
    "id": "1AmtQtlY0LFA"
   },
   "outputs": [],
   "source": [
    "def vectorize_sequences(sequences, dimension=10000):\n",
    "    #print(sequences)\n",
    "    results = np.zeros((len(sequences), dimension))    # Creates an all zero matrix of shape (len(sequences),10K)\n",
    "    for i,sequence in enumerate(sequences):\n",
    "        results[i,sequence] = 1                        # Sets specific indices of results[i] to 1s\n",
    "    return results\n"
   ]
  },
  {
   "cell_type": "code",
   "execution_count": 11,
   "metadata": {
    "id": "hRq0V80S0Q1u"
   },
   "outputs": [],
   "source": [
    "# Vectorize training Data\n",
    "X_train = vectorize_sequences(x_train)\n",
    "\n",
    "# Vectorize testing Data\n",
    "X_test = vectorize_sequences(x_test)"
   ]
  },
  {
   "cell_type": "code",
   "execution_count": 12,
   "metadata": {
    "colab": {
     "base_uri": "https://localhost:8080/",
     "height": 33
    },
    "id": "qibArQo3FuCz",
    "outputId": "150f5d04-7265-4fa0-bf0e-6699e83a6c54"
   },
   "outputs": [
    {
     "data": {
      "text/plain": [
       "(25000, 10000)"
      ]
     },
     "execution_count": 12,
     "metadata": {
      "tags": []
     },
     "output_type": "execute_result"
    }
   ],
   "source": [
    "X_train.shape"
   ]
  },
  {
   "cell_type": "code",
   "execution_count": 13,
   "metadata": {
    "colab": {
     "base_uri": "https://localhost:8080/",
     "height": 33
    },
    "id": "2yyWZ7xD1U8Z",
    "outputId": "e07b3b62-ed6e-4681-88eb-331e376dcb21"
   },
   "outputs": [
    {
     "data": {
      "text/plain": [
       "(25000, 10000)"
      ]
     },
     "execution_count": 13,
     "metadata": {
      "tags": []
     },
     "output_type": "execute_result"
    }
   ],
   "source": [
    "X_test.shape"
   ]
  },
  {
   "cell_type": "markdown",
   "metadata": {
    "id": "xr5Az8XjM7CG"
   },
   "source": [
    "# **Model#1**"
   ]
  },
  {
   "cell_type": "markdown",
   "metadata": {
    "id": "gSdlk1kri_Ju"
   },
   "source": [
    "## 4. Model Building\n",
    "\n",
    "* We tried various number of layers and various neurons in each layer. We found that beyond 4 hidden layers and above 10 neurons in each layer accuracy is not improving any further significantly.\n",
    "* We have added L2 regularization to avoid overfitting.\n",
    "* Added one dropout layer on 2nd hidden layer. We tried applying dropout at various layers. We got almost similar validation accuracy by positioning dropout at different layers. When we applied dropout dropout on layer 2, we got good accuracies for both training and validation data set.\n",
    "* ReLu is used as activation function for all hidden layers, since ReLu performs better then traditional activation functions such as sigmoid. For final layer sigmoid is used as activation function since we want categorize into 2 classes."
   ]
  },
  {
   "cell_type": "code",
   "execution_count": 14,
   "metadata": {
    "id": "mnC-v6x2iM2g"
   },
   "outputs": [],
   "source": [
    "def get_regularized_model1(wd,rate):\n",
    "    model=tf.keras.models.Sequential([tf.keras.layers.Dense(5,kernel_regularizer=regularizers.l2(wd),kernel_initializer='he_normal', activation='relu',input_shape=(10000,)),\n",
    "                                  tf.keras.layers.Dense(10,kernel_regularizer=regularizers.l2(wd),kernel_initializer='he_normal',activation='relu'),\n",
    "                                  tf.keras.layers.Dropout(rate),  \n",
    "                                  tf.keras.layers.Dense(10,kernel_regularizer=regularizers.l2(wd),kernel_initializer='he_normal',activation='relu'),\n",
    "                                  tf.keras.layers.Dense(10,kernel_regularizer=regularizers.l2(wd),kernel_initializer='he_normal',activation='relu'),\n",
    "                                  tf.keras.layers.Dense(1,kernel_regularizer=regularizers.l2(wd),kernel_initializer='he_normal',activation='sigmoid')])\n",
    "    return model"
   ]
  },
  {
   "cell_type": "code",
   "execution_count": 15,
   "metadata": {
    "id": "LFlAq8V61XPu"
   },
   "outputs": [],
   "source": [
    "model1 = get_regularized_model1(0.02,0.5)"
   ]
  },
  {
   "cell_type": "code",
   "execution_count": 16,
   "metadata": {
    "colab": {
     "base_uri": "https://localhost:8080/",
     "height": 352
    },
    "id": "cvazHBT7jWj5",
    "outputId": "27b89c3f-ffb1-4337-8325-91c2ef79d319"
   },
   "outputs": [
    {
     "name": "stdout",
     "output_type": "stream",
     "text": [
      "Model: \"sequential\"\n",
      "_________________________________________________________________\n",
      "Layer (type)                 Output Shape              Param #   \n",
      "=================================================================\n",
      "dense (Dense)                (None, 5)                 50005     \n",
      "_________________________________________________________________\n",
      "dense_1 (Dense)              (None, 10)                60        \n",
      "_________________________________________________________________\n",
      "dropout (Dropout)            (None, 10)                0         \n",
      "_________________________________________________________________\n",
      "dense_2 (Dense)              (None, 10)                110       \n",
      "_________________________________________________________________\n",
      "dense_3 (Dense)              (None, 10)                110       \n",
      "_________________________________________________________________\n",
      "dense_4 (Dense)              (None, 1)                 11        \n",
      "=================================================================\n",
      "Total params: 50,296\n",
      "Trainable params: 50,296\n",
      "Non-trainable params: 0\n",
      "_________________________________________________________________\n"
     ]
    }
   ],
   "source": [
    "model1.summary()"
   ]
  },
  {
   "cell_type": "markdown",
   "metadata": {
    "id": "BWm8Xhqt9CLl"
   },
   "source": [
    "## 5. Model Compilation\n",
    "\n",
    "### Loss function and optimizer\n",
    "* We have selected BinaryCrossentropy as loss function since we are dealing with 2 classes.\n",
    "* We have used Adam optimizer with learning rate=0.0001. Adam optimizer also uses beta_1=0.9 (exponential decay rate for the 1st moment estimates), beta_2=0.999 (exponential decay rate for the 2nd moment estimates).\n",
    "We started with highr learning rates (0.001) and kept on lowering it and came to a conclusion that 0.0001 gives optimal accuracy without compromising on time taken to converge. \n",
    "* Accuracy is used as metric"
   ]
  },
  {
   "cell_type": "code",
   "execution_count": 17,
   "metadata": {
    "id": "qSOnmXAY2lGg"
   },
   "outputs": [],
   "source": [
    "model1.compile(optimizer=tf.optimizers.Adam(learning_rate=0.0001),\n",
    "              loss=tf.keras.losses.BinaryCrossentropy(),\n",
    "              metrics=['accuracy'])"
   ]
  },
  {
   "cell_type": "markdown",
   "metadata": {
    "id": "Y1H4pXme_1_i"
   },
   "source": [
    "## 6. Model Training\n",
    "\n",
    "* we have used 1024 batch size and early stopping with 100 epochs as limit"
   ]
  },
  {
   "cell_type": "code",
   "execution_count": 18,
   "metadata": {
    "colab": {
     "base_uri": "https://localhost:8080/",
     "height": 1000
    },
    "id": "2Htg6aH226Pl",
    "outputId": "f8f87525-1bcd-4474-ad69-fcc4e1821413"
   },
   "outputs": [
    {
     "name": "stdout",
     "output_type": "stream",
     "text": [
      "Epoch 1/100\n",
      "25/25 [==============================] - 2s 81ms/step - loss: 2.0835 - accuracy: 0.5144 - val_loss: 2.0555 - val_accuracy: 0.5264\n",
      "Epoch 2/100\n",
      "25/25 [==============================] - 1s 42ms/step - loss: 2.0318 - accuracy: 0.5618 - val_loss: 2.0093 - val_accuracy: 0.5696\n",
      "Epoch 3/100\n",
      "25/25 [==============================] - 1s 41ms/step - loss: 1.9853 - accuracy: 0.5766 - val_loss: 1.9677 - val_accuracy: 0.5910\n",
      "Epoch 4/100\n",
      "25/25 [==============================] - 1s 40ms/step - loss: 1.9427 - accuracy: 0.6166 - val_loss: 1.9316 - val_accuracy: 0.6334\n",
      "Epoch 5/100\n",
      "25/25 [==============================] - 1s 40ms/step - loss: 1.9046 - accuracy: 0.6560 - val_loss: 1.9000 - val_accuracy: 0.6560\n",
      "Epoch 6/100\n",
      "25/25 [==============================] - 1s 40ms/step - loss: 1.8717 - accuracy: 0.6774 - val_loss: 1.8712 - val_accuracy: 0.6860\n",
      "Epoch 7/100\n",
      "25/25 [==============================] - 1s 41ms/step - loss: 1.8403 - accuracy: 0.7014 - val_loss: 1.8435 - val_accuracy: 0.6879\n",
      "Epoch 8/100\n",
      "25/25 [==============================] - 1s 41ms/step - loss: 1.8116 - accuracy: 0.7188 - val_loss: 1.8174 - val_accuracy: 0.7225\n",
      "Epoch 9/100\n",
      "25/25 [==============================] - 1s 41ms/step - loss: 1.7842 - accuracy: 0.7386 - val_loss: 1.7919 - val_accuracy: 0.7399\n",
      "Epoch 10/100\n",
      "25/25 [==============================] - 1s 41ms/step - loss: 1.7606 - accuracy: 0.7556 - val_loss: 1.7684 - val_accuracy: 0.7610\n",
      "Epoch 11/100\n",
      "25/25 [==============================] - 1s 41ms/step - loss: 1.7379 - accuracy: 0.7704 - val_loss: 1.7468 - val_accuracy: 0.7791\n",
      "Epoch 12/100\n",
      "25/25 [==============================] - 1s 40ms/step - loss: 1.7180 - accuracy: 0.7852 - val_loss: 1.7266 - val_accuracy: 0.7881\n",
      "Epoch 13/100\n",
      "25/25 [==============================] - 1s 41ms/step - loss: 1.6983 - accuracy: 0.7954 - val_loss: 1.7080 - val_accuracy: 0.8046\n",
      "Epoch 14/100\n",
      "25/25 [==============================] - 1s 40ms/step - loss: 1.6805 - accuracy: 0.8038 - val_loss: 1.6902 - val_accuracy: 0.8124\n",
      "Epoch 15/100\n",
      "25/25 [==============================] - 1s 41ms/step - loss: 1.6643 - accuracy: 0.8072 - val_loss: 1.6746 - val_accuracy: 0.8260\n",
      "Epoch 16/100\n",
      "25/25 [==============================] - 1s 40ms/step - loss: 1.6500 - accuracy: 0.8138 - val_loss: 1.6585 - val_accuracy: 0.8270\n",
      "Epoch 17/100\n",
      "25/25 [==============================] - 1s 41ms/step - loss: 1.6347 - accuracy: 0.8205 - val_loss: 1.6443 - val_accuracy: 0.8369\n",
      "Epoch 18/100\n",
      "25/25 [==============================] - 1s 42ms/step - loss: 1.6207 - accuracy: 0.8255 - val_loss: 1.6292 - val_accuracy: 0.8312\n",
      "Epoch 19/100\n",
      "25/25 [==============================] - 1s 41ms/step - loss: 1.6090 - accuracy: 0.8296 - val_loss: 1.6157 - val_accuracy: 0.8372\n",
      "Epoch 20/100\n",
      "25/25 [==============================] - 1s 41ms/step - loss: 1.5951 - accuracy: 0.8330 - val_loss: 1.6027 - val_accuracy: 0.8380\n",
      "Epoch 21/100\n",
      "25/25 [==============================] - 1s 41ms/step - loss: 1.5826 - accuracy: 0.8377 - val_loss: 1.5899 - val_accuracy: 0.8428\n",
      "Epoch 22/100\n",
      "25/25 [==============================] - 1s 42ms/step - loss: 1.5715 - accuracy: 0.8390 - val_loss: 1.5778 - val_accuracy: 0.8469\n",
      "Epoch 23/100\n",
      "25/25 [==============================] - 1s 42ms/step - loss: 1.5596 - accuracy: 0.8406 - val_loss: 1.5659 - val_accuracy: 0.8504\n",
      "Epoch 24/100\n",
      "25/25 [==============================] - 1s 42ms/step - loss: 1.5493 - accuracy: 0.8423 - val_loss: 1.5548 - val_accuracy: 0.8555\n",
      "Epoch 25/100\n",
      "25/25 [==============================] - 1s 40ms/step - loss: 1.5377 - accuracy: 0.8483 - val_loss: 1.5436 - val_accuracy: 0.8576\n",
      "Epoch 26/100\n",
      "25/25 [==============================] - 1s 42ms/step - loss: 1.5278 - accuracy: 0.8483 - val_loss: 1.5328 - val_accuracy: 0.8576\n",
      "Epoch 27/100\n",
      "25/25 [==============================] - 1s 41ms/step - loss: 1.5173 - accuracy: 0.8491 - val_loss: 1.5216 - val_accuracy: 0.8560\n",
      "Epoch 28/100\n",
      "25/25 [==============================] - 1s 41ms/step - loss: 1.5079 - accuracy: 0.8508 - val_loss: 1.5111 - val_accuracy: 0.8576\n",
      "Epoch 29/100\n",
      "25/25 [==============================] - 1s 43ms/step - loss: 1.4972 - accuracy: 0.8552 - val_loss: 1.5010 - val_accuracy: 0.8583\n",
      "Epoch 30/100\n",
      "25/25 [==============================] - 1s 41ms/step - loss: 1.4898 - accuracy: 0.8541 - val_loss: 1.4915 - val_accuracy: 0.8644\n",
      "Epoch 31/100\n",
      "25/25 [==============================] - 1s 41ms/step - loss: 1.4776 - accuracy: 0.8582 - val_loss: 1.4816 - val_accuracy: 0.8638\n",
      "Epoch 32/100\n",
      "25/25 [==============================] - 1s 41ms/step - loss: 1.4687 - accuracy: 0.8591 - val_loss: 1.4718 - val_accuracy: 0.8611\n",
      "Epoch 33/100\n",
      "25/25 [==============================] - 1s 42ms/step - loss: 1.4584 - accuracy: 0.8606 - val_loss: 1.4625 - val_accuracy: 0.8626\n",
      "Epoch 34/100\n",
      "25/25 [==============================] - 1s 41ms/step - loss: 1.4505 - accuracy: 0.8609 - val_loss: 1.4532 - val_accuracy: 0.8652\n",
      "Epoch 35/100\n",
      "25/25 [==============================] - 1s 43ms/step - loss: 1.4415 - accuracy: 0.8643 - val_loss: 1.4446 - val_accuracy: 0.8693\n",
      "Epoch 36/100\n",
      "25/25 [==============================] - 1s 40ms/step - loss: 1.4322 - accuracy: 0.8654 - val_loss: 1.4360 - val_accuracy: 0.8683\n",
      "Epoch 37/100\n",
      "25/25 [==============================] - 1s 41ms/step - loss: 1.4244 - accuracy: 0.8668 - val_loss: 1.4274 - val_accuracy: 0.8695\n",
      "Epoch 38/100\n",
      "25/25 [==============================] - 1s 42ms/step - loss: 1.4151 - accuracy: 0.8688 - val_loss: 1.4191 - val_accuracy: 0.8703\n",
      "Epoch 39/100\n",
      "25/25 [==============================] - 1s 42ms/step - loss: 1.4089 - accuracy: 0.8675 - val_loss: 1.4106 - val_accuracy: 0.8695\n",
      "Epoch 40/100\n",
      "25/25 [==============================] - 1s 41ms/step - loss: 1.3976 - accuracy: 0.8706 - val_loss: 1.4023 - val_accuracy: 0.8719\n",
      "Epoch 41/100\n",
      "25/25 [==============================] - 1s 41ms/step - loss: 1.3916 - accuracy: 0.8694 - val_loss: 1.3942 - val_accuracy: 0.8698\n",
      "Epoch 42/100\n",
      "25/25 [==============================] - 1s 41ms/step - loss: 1.3828 - accuracy: 0.8717 - val_loss: 1.3861 - val_accuracy: 0.8718\n",
      "Epoch 43/100\n",
      "25/25 [==============================] - 1s 40ms/step - loss: 1.3739 - accuracy: 0.8728 - val_loss: 1.3783 - val_accuracy: 0.8731\n",
      "Epoch 44/100\n",
      "25/25 [==============================] - 1s 41ms/step - loss: 1.3659 - accuracy: 0.8747 - val_loss: 1.3704 - val_accuracy: 0.8727\n",
      "Epoch 45/100\n",
      "25/25 [==============================] - 1s 40ms/step - loss: 1.3577 - accuracy: 0.8756 - val_loss: 1.3622 - val_accuracy: 0.8736\n",
      "Epoch 46/100\n",
      "25/25 [==============================] - 1s 42ms/step - loss: 1.3509 - accuracy: 0.8755 - val_loss: 1.3550 - val_accuracy: 0.8770\n",
      "Epoch 47/100\n",
      "25/25 [==============================] - 1s 43ms/step - loss: 1.3427 - accuracy: 0.8774 - val_loss: 1.3474 - val_accuracy: 0.8744\n",
      "Epoch 48/100\n",
      "25/25 [==============================] - 1s 41ms/step - loss: 1.3349 - accuracy: 0.8778 - val_loss: 1.3399 - val_accuracy: 0.8748\n",
      "Epoch 49/100\n",
      "25/25 [==============================] - 1s 41ms/step - loss: 1.3273 - accuracy: 0.8797 - val_loss: 1.3324 - val_accuracy: 0.8744\n",
      "Epoch 50/100\n",
      "25/25 [==============================] - 1s 41ms/step - loss: 1.3184 - accuracy: 0.8791 - val_loss: 1.3249 - val_accuracy: 0.8774\n",
      "Epoch 51/100\n",
      "25/25 [==============================] - 1s 41ms/step - loss: 1.3114 - accuracy: 0.8779 - val_loss: 1.3176 - val_accuracy: 0.8765\n",
      "Epoch 52/100\n",
      "25/25 [==============================] - 1s 42ms/step - loss: 1.3066 - accuracy: 0.8795 - val_loss: 1.3105 - val_accuracy: 0.8759\n",
      "Epoch 53/100\n",
      "25/25 [==============================] - 1s 41ms/step - loss: 1.2977 - accuracy: 0.8802 - val_loss: 1.3035 - val_accuracy: 0.8772\n",
      "Epoch 54/100\n",
      "25/25 [==============================] - 1s 41ms/step - loss: 1.2903 - accuracy: 0.8812 - val_loss: 1.2964 - val_accuracy: 0.8773\n",
      "Epoch 55/100\n",
      "25/25 [==============================] - 1s 41ms/step - loss: 1.2841 - accuracy: 0.8820 - val_loss: 1.2890 - val_accuracy: 0.8785\n",
      "Epoch 56/100\n",
      "25/25 [==============================] - 1s 43ms/step - loss: 1.2779 - accuracy: 0.8806 - val_loss: 1.2826 - val_accuracy: 0.8769\n",
      "Epoch 57/100\n",
      "25/25 [==============================] - 1s 41ms/step - loss: 1.2708 - accuracy: 0.8828 - val_loss: 1.2757 - val_accuracy: 0.8782\n",
      "Epoch 58/100\n",
      "25/25 [==============================] - 1s 41ms/step - loss: 1.2639 - accuracy: 0.8815 - val_loss: 1.2690 - val_accuracy: 0.8797\n",
      "Epoch 59/100\n",
      "25/25 [==============================] - 1s 40ms/step - loss: 1.2566 - accuracy: 0.8846 - val_loss: 1.2624 - val_accuracy: 0.8775\n",
      "Epoch 60/100\n",
      "25/25 [==============================] - 1s 41ms/step - loss: 1.2503 - accuracy: 0.8819 - val_loss: 1.2557 - val_accuracy: 0.8802\n",
      "Epoch 61/100\n",
      "25/25 [==============================] - 1s 41ms/step - loss: 1.2422 - accuracy: 0.8843 - val_loss: 1.2491 - val_accuracy: 0.8796\n",
      "Epoch 62/100\n",
      "25/25 [==============================] - 1s 41ms/step - loss: 1.2369 - accuracy: 0.8835 - val_loss: 1.2425 - val_accuracy: 0.8787\n",
      "Epoch 63/100\n",
      "25/25 [==============================] - 1s 41ms/step - loss: 1.2293 - accuracy: 0.8860 - val_loss: 1.2359 - val_accuracy: 0.8796\n",
      "Epoch 64/100\n",
      "25/25 [==============================] - 1s 41ms/step - loss: 1.2220 - accuracy: 0.8870 - val_loss: 1.2295 - val_accuracy: 0.8788\n",
      "Epoch 65/100\n",
      "25/25 [==============================] - 1s 42ms/step - loss: 1.2188 - accuracy: 0.8852 - val_loss: 1.2234 - val_accuracy: 0.8787\n",
      "Epoch 66/100\n",
      "25/25 [==============================] - 1s 41ms/step - loss: 1.2101 - accuracy: 0.8857 - val_loss: 1.2170 - val_accuracy: 0.8803\n",
      "Epoch 67/100\n",
      "25/25 [==============================] - 1s 41ms/step - loss: 1.2054 - accuracy: 0.8852 - val_loss: 1.2111 - val_accuracy: 0.8779\n",
      "Epoch 68/100\n",
      "25/25 [==============================] - 1s 40ms/step - loss: 1.1976 - accuracy: 0.8884 - val_loss: 1.2048 - val_accuracy: 0.8810\n",
      "Epoch 69/100\n",
      "25/25 [==============================] - 1s 40ms/step - loss: 1.1914 - accuracy: 0.8870 - val_loss: 1.1985 - val_accuracy: 0.8810\n",
      "Epoch 70/100\n",
      "25/25 [==============================] - 1s 39ms/step - loss: 1.1843 - accuracy: 0.8918 - val_loss: 1.1927 - val_accuracy: 0.8799\n",
      "Epoch 71/100\n",
      "25/25 [==============================] - 1s 41ms/step - loss: 1.1803 - accuracy: 0.8892 - val_loss: 1.1869 - val_accuracy: 0.8803\n",
      "Epoch 72/100\n",
      "25/25 [==============================] - 1s 41ms/step - loss: 1.1735 - accuracy: 0.8912 - val_loss: 1.1811 - val_accuracy: 0.8800\n",
      "Epoch 73/100\n",
      "25/25 [==============================] - 1s 41ms/step - loss: 1.1660 - accuracy: 0.8920 - val_loss: 1.1749 - val_accuracy: 0.8808\n",
      "Epoch 74/100\n",
      "25/25 [==============================] - 1s 41ms/step - loss: 1.1622 - accuracy: 0.8896 - val_loss: 1.1691 - val_accuracy: 0.8801\n",
      "Epoch 75/100\n",
      "25/25 [==============================] - 1s 42ms/step - loss: 1.1581 - accuracy: 0.8886 - val_loss: 1.1635 - val_accuracy: 0.8806\n",
      "Epoch 76/100\n",
      "25/25 [==============================] - 1s 43ms/step - loss: 1.1509 - accuracy: 0.8896 - val_loss: 1.1579 - val_accuracy: 0.8815\n",
      "Epoch 77/100\n",
      "25/25 [==============================] - 1s 41ms/step - loss: 1.1452 - accuracy: 0.8913 - val_loss: 1.1523 - val_accuracy: 0.8811\n",
      "Epoch 78/100\n",
      "25/25 [==============================] - 1s 39ms/step - loss: 1.1372 - accuracy: 0.8934 - val_loss: 1.1465 - val_accuracy: 0.8813\n",
      "Epoch 79/100\n",
      "25/25 [==============================] - 1s 41ms/step - loss: 1.1318 - accuracy: 0.8920 - val_loss: 1.1411 - val_accuracy: 0.8812\n",
      "Epoch 80/100\n",
      "25/25 [==============================] - 1s 41ms/step - loss: 1.1248 - accuracy: 0.8964 - val_loss: 1.1356 - val_accuracy: 0.8812\n",
      "Epoch 81/100\n",
      "25/25 [==============================] - 1s 41ms/step - loss: 1.1214 - accuracy: 0.8942 - val_loss: 1.1302 - val_accuracy: 0.8814\n",
      "Epoch 82/100\n",
      "25/25 [==============================] - 1s 42ms/step - loss: 1.1147 - accuracy: 0.8941 - val_loss: 1.1250 - val_accuracy: 0.8804\n",
      "Epoch 83/100\n",
      "25/25 [==============================] - 1s 42ms/step - loss: 1.1086 - accuracy: 0.8949 - val_loss: 1.1196 - val_accuracy: 0.8814\n",
      "Epoch 84/100\n",
      "25/25 [==============================] - 1s 41ms/step - loss: 1.1042 - accuracy: 0.8961 - val_loss: 1.1144 - val_accuracy: 0.8812\n",
      "Epoch 85/100\n",
      "25/25 [==============================] - 1s 42ms/step - loss: 1.0996 - accuracy: 0.8947 - val_loss: 1.1092 - val_accuracy: 0.8810\n",
      "Epoch 86/100\n",
      "25/25 [==============================] - 1s 43ms/step - loss: 1.0943 - accuracy: 0.8945 - val_loss: 1.1044 - val_accuracy: 0.8808\n",
      "Epoch 87/100\n",
      "25/25 [==============================] - 1s 41ms/step - loss: 1.0887 - accuracy: 0.8948 - val_loss: 1.0992 - val_accuracy: 0.8808\n",
      "Epoch 88/100\n",
      "25/25 [==============================] - 1s 40ms/step - loss: 1.0851 - accuracy: 0.8948 - val_loss: 1.0941 - val_accuracy: 0.8817\n",
      "Epoch 89/100\n",
      "25/25 [==============================] - 1s 41ms/step - loss: 1.0791 - accuracy: 0.8965 - val_loss: 1.0892 - val_accuracy: 0.8812\n",
      "Epoch 90/100\n",
      "25/25 [==============================] - 1s 41ms/step - loss: 1.0734 - accuracy: 0.8975 - val_loss: 1.0849 - val_accuracy: 0.8797\n",
      "Epoch 91/100\n",
      "25/25 [==============================] - 1s 40ms/step - loss: 1.0718 - accuracy: 0.8934 - val_loss: 1.0794 - val_accuracy: 0.8802\n",
      "Epoch 92/100\n",
      "25/25 [==============================] - 1s 41ms/step - loss: 1.0671 - accuracy: 0.8969 - val_loss: 1.0744 - val_accuracy: 0.8828\n",
      "Epoch 93/100\n",
      "25/25 [==============================] - 1s 42ms/step - loss: 1.0621 - accuracy: 0.8956 - val_loss: 1.0698 - val_accuracy: 0.8821\n",
      "Epoch 94/100\n",
      "25/25 [==============================] - 1s 42ms/step - loss: 1.0547 - accuracy: 0.8963 - val_loss: 1.0650 - val_accuracy: 0.8824\n",
      "Epoch 95/100\n",
      "25/25 [==============================] - 1s 43ms/step - loss: 1.0499 - accuracy: 0.8967 - val_loss: 1.0600 - val_accuracy: 0.8824\n",
      "Epoch 96/100\n",
      "25/25 [==============================] - 1s 42ms/step - loss: 1.0451 - accuracy: 0.8963 - val_loss: 1.0554 - val_accuracy: 0.8828\n",
      "Epoch 97/100\n",
      "25/25 [==============================] - 1s 42ms/step - loss: 1.0407 - accuracy: 0.8974 - val_loss: 1.0508 - val_accuracy: 0.8828\n",
      "Epoch 98/100\n",
      "25/25 [==============================] - 1s 42ms/step - loss: 1.0347 - accuracy: 0.8991 - val_loss: 1.0465 - val_accuracy: 0.8814\n",
      "Epoch 99/100\n",
      "25/25 [==============================] - 1s 41ms/step - loss: 1.0337 - accuracy: 0.8950 - val_loss: 1.0416 - val_accuracy: 0.8829\n",
      "Epoch 100/100\n",
      "25/25 [==============================] - 1s 40ms/step - loss: 1.0266 - accuracy: 0.8954 - val_loss: 1.0373 - val_accuracy: 0.8824\n"
     ]
    }
   ],
   "source": [
    "start_time = time.time()\n",
    "history1 = model1.fit(X_train,\n",
    "                   y_train,\n",
    "                   epochs=100,\n",
    "                   batch_size=1024,\n",
    "                   validation_data=(X_test, y_test),\n",
    "                   callbacks=[tf.keras.callbacks.EarlyStopping(patience=0)])\n",
    "end_time = time.time()"
   ]
  },
  {
   "cell_type": "markdown",
   "metadata": {
    "id": "vzLS8vqmBWMB"
   },
   "source": [
    "## 7. Model Evaluation\n",
    "\n",
    "### Model performance, Confusion matrix and classification report\n",
    "\n",
    "* Model performance: we have plotted training and validation loss and accuracy vs epochs\n",
    "* Time taken to train model has been printed.\n",
    "* Confusion matrix: We have give confusion matrix with counts (Vertical axis index stands for actual classes. Horizontal axis index stands for predicted classes.) as well as normalized confusion matrix with color coding\n",
    "* Classification report is also provided which gives classwise performance\n",
    "\n",
    "\n",
    "Easy reference to understand classification report:\n",
    "* Precision: How much % of identified class  are correct (TP/(TP+FP))\n",
    "* Recall:How much % of a class are correctly identified (TP/(All positive = TP+FN))\n",
    "* f1-score: Harmonic mean between precision and recall\n",
    "* support: Number of occurances of a given class\n",
    "\n",
    "### Class performance \n",
    "\n",
    "Both positive and negative review are classes are having similar performance. In model#1 there is 1% difference in both recall and precision. F1 score of both classes are same across all models. This is possibly because IMDB-50K is a balanced dataset."
   ]
  },
  {
   "cell_type": "code",
   "execution_count": 19,
   "metadata": {
    "colab": {
     "base_uri": "https://localhost:8080/",
     "height": 750
    },
    "id": "cHhK12ur3Dn4",
    "outputId": "67f788df-7c07-493f-d07e-284ca19c3aa1"
   },
   "outputs": [
    {
     "name": "stdout",
     "output_type": "stream",
     "text": [
      "782/782 [==============================] - 2s 3ms/step - loss: 1.0373 - accuracy: 0.8824\n",
      "Accuracy : 0.8824399709701538\n",
      "Loss     : 1.0372978448867798\n"
     ]
    },
    {
     "data": {
      "image/png": "[encoded data removed]",
      "text/plain": [
       "<Figure size 360x360 with 1 Axes>"
      ]
     },
     "metadata": {
      "needs_background": "light",
      "tags": []
     },
     "output_type": "display_data"
    },
    {
     "data": {
      "image/png": "[encoded data removed]",
      "text/plain": [
       "<Figure size 360x360 with 1 Axes>"
      ]
     },
     "metadata": {
      "needs_background": "light",
      "tags": []
     },
     "output_type": "display_data"
    },
    {
     "name": "stdout",
     "output_type": "stream",
     "text": [
      "Time taken to train: 108.28734302520752 seconds\n"
     ]
    }
   ],
   "source": [
    "loss, accuracy = model1.evaluate(X_test,y_test)\n",
    "print(f\"Accuracy : {accuracy}\")\n",
    "print(f\"Loss     : {loss}\")\n",
    "plot_learning_progress_loss(history1)\n",
    "plot_learning_progress_accuracy(history1)\n",
    "print(\"Time taken to train: %s seconds\" % (end_time - start_time))"
   ]
  },
  {
   "cell_type": "code",
   "execution_count": 20,
   "metadata": {
    "colab": {
     "base_uri": "https://localhost:8080/",
     "height": 662
    },
    "id": "BqpYK4f0LV2J",
    "outputId": "12c92003-768c-44c0-b278-c74a75c47676"
   },
   "outputs": [
    {
     "name": "stdout",
     "output_type": "stream",
     "text": [
      "tf.Tensor(\n",
      "[[11165  1335]\n",
      " [ 1604 10896]], shape=(2, 2), dtype=int32)\n",
      "\n",
      "Classification Report\n",
      "\n",
      "              precision    recall  f1-score   support\n",
      "\n",
      "    Negative       0.87      0.89      0.88     12500\n",
      "    Positive       0.89      0.87      0.88     12500\n",
      "\n",
      "    accuracy                           0.88     25000\n",
      "   macro avg       0.88      0.88      0.88     25000\n",
      "weighted avg       0.88      0.88      0.88     25000\n",
      "\n"
     ]
    },
    {
     "data": {
      "image/png": "[encoded data removed]",
      "text/plain": [
       "<Figure size 504x504 with 2 Axes>"
      ]
     },
     "metadata": {
      "needs_background": "light",
      "tags": []
     },
     "output_type": "display_data"
    }
   ],
   "source": [
    "display_model_performance(model1,X_test,y_test,display_labels=imdb_labels)"
   ]
  },
  {
   "cell_type": "markdown",
   "metadata": {
    "id": "3EzRM-a0G1og"
   },
   "source": [
    "## 8. Hyperparameter Tuning"
   ]
  },
  {
   "cell_type": "markdown",
   "metadata": {
    "id": "-5nKJQ84NEn-"
   },
   "source": [
    "# **Model#2**\n",
    "## Changed number of hidden layers and hidden units in each layer\n",
    "\n",
    "\n",
    "We experimented with various number of layers and hidden units per layer. We found that after increasing number of hidden layers to 5 andnumber of units each hidden layer to 30, we could further increase training accuracy but validation accuracy did not improve much. We feel that if we experiment further with regularization parameters we can try to increase validation accuracy further. We could not do further tuning due to lack of time."
   ]
  },
  {
   "cell_type": "code",
   "execution_count": 21,
   "metadata": {
    "id": "x4yJ0Gj2RCxY"
   },
   "outputs": [],
   "source": [
    "def get_regularized_model2(wd,rate):\n",
    "    model=tf.keras.models.Sequential([tf.keras.layers.Dense(30,kernel_regularizer=regularizers.l2(wd),kernel_initializer='he_normal', activation='relu',input_shape=(10000,)),\n",
    "                                  tf.keras.layers.Dense(30,kernel_regularizer=regularizers.l2(wd),kernel_initializer='he_normal',activation='relu'),\n",
    "                                  tf.keras.layers.Dropout(rate),  \n",
    "                                  tf.keras.layers.Dense(30,kernel_regularizer=regularizers.l2(wd),kernel_initializer='he_normal',activation='relu'),\n",
    "                                  tf.keras.layers.Dense(30,kernel_regularizer=regularizers.l2(wd),kernel_initializer='he_normal',activation='relu'),                                  \n",
    "                                  tf.keras.layers.Dense(30,kernel_regularizer=regularizers.l2(wd),kernel_initializer='he_normal',activation='relu'), \n",
    "                                  tf.keras.layers.Dense(1,kernel_regularizer=regularizers.l2(wd),kernel_initializer='he_normal',activation='sigmoid')])\n",
    "    return model"
   ]
  },
  {
   "cell_type": "code",
   "execution_count": 22,
   "metadata": {
    "id": "2naqKZDCNG-9"
   },
   "outputs": [],
   "source": [
    "model2 = get_regularized_model2(0.02,0.5)"
   ]
  },
  {
   "cell_type": "code",
   "execution_count": 23,
   "metadata": {
    "colab": {
     "base_uri": "https://localhost:8080/",
     "height": 386
    },
    "id": "-SiZY1v6jdmt",
    "outputId": "10a6db77-71e9-452c-ad47-c004835d17c3"
   },
   "outputs": [
    {
     "name": "stdout",
     "output_type": "stream",
     "text": [
      "Model: \"sequential_1\"\n",
      "_________________________________________________________________\n",
      "Layer (type)                 Output Shape              Param #   \n",
      "=================================================================\n",
      "dense_5 (Dense)              (None, 30)                300030    \n",
      "_________________________________________________________________\n",
      "dense_6 (Dense)              (None, 30)                930       \n",
      "_________________________________________________________________\n",
      "dropout_1 (Dropout)          (None, 30)                0         \n",
      "_________________________________________________________________\n",
      "dense_7 (Dense)              (None, 30)                930       \n",
      "_________________________________________________________________\n",
      "dense_8 (Dense)              (None, 30)                930       \n",
      "_________________________________________________________________\n",
      "dense_9 (Dense)              (None, 30)                930       \n",
      "_________________________________________________________________\n",
      "dense_10 (Dense)             (None, 1)                 31        \n",
      "=================================================================\n",
      "Total params: 303,781\n",
      "Trainable params: 303,781\n",
      "Non-trainable params: 0\n",
      "_________________________________________________________________\n"
     ]
    }
   ],
   "source": [
    "model2.summary()"
   ]
  },
  {
   "cell_type": "code",
   "execution_count": 24,
   "metadata": {
    "id": "tKRiPCuJQIGp"
   },
   "outputs": [],
   "source": [
    "model2.compile(optimizer=tf.optimizers.Adam(learning_rate=0.0001),\n",
    "              loss=tf.keras.losses.BinaryCrossentropy(),\n",
    "              metrics=['accuracy'])\n",
    "start_time = time.time()"
   ]
  },
  {
   "cell_type": "code",
   "execution_count": 25,
   "metadata": {
    "colab": {
     "base_uri": "https://localhost:8080/",
     "height": 1000
    },
    "id": "C3rz-sD_QKDd",
    "outputId": "76e926a5-d1d3-4854-cc86-778ae7995c10"
   },
   "outputs": [
    {
     "name": "stdout",
     "output_type": "stream",
     "text": [
      "Epoch 1/100\n",
      "25/25 [==============================] - 2s 71ms/step - loss: 6.4330 - accuracy: 0.5145 - val_loss: 6.2422 - val_accuracy: 0.5538\n",
      "Epoch 2/100\n",
      "25/25 [==============================] - 1s 41ms/step - loss: 6.0955 - accuracy: 0.5511 - val_loss: 5.9376 - val_accuracy: 0.6079\n",
      "Epoch 3/100\n",
      "25/25 [==============================] - 1s 41ms/step - loss: 5.8174 - accuracy: 0.5941 - val_loss: 5.6793 - val_accuracy: 0.6824\n",
      "Epoch 4/100\n",
      "25/25 [==============================] - 1s 41ms/step - loss: 5.5823 - accuracy: 0.6565 - val_loss: 5.4574 - val_accuracy: 0.7544\n",
      "Epoch 5/100\n",
      "25/25 [==============================] - 1s 42ms/step - loss: 5.3820 - accuracy: 0.7027 - val_loss: 5.2664 - val_accuracy: 0.7976\n",
      "Epoch 6/100\n",
      "25/25 [==============================] - 1s 42ms/step - loss: 5.2086 - accuracy: 0.7429 - val_loss: 5.1019 - val_accuracy: 0.8142\n",
      "Epoch 7/100\n",
      "25/25 [==============================] - 1s 41ms/step - loss: 5.0598 - accuracy: 0.7642 - val_loss: 4.9617 - val_accuracy: 0.8198\n",
      "Epoch 8/100\n",
      "25/25 [==============================] - 1s 41ms/step - loss: 4.9294 - accuracy: 0.7833 - val_loss: 4.8360 - val_accuracy: 0.8412\n",
      "Epoch 9/100\n",
      "25/25 [==============================] - 1s 41ms/step - loss: 4.8131 - accuracy: 0.8026 - val_loss: 4.7260 - val_accuracy: 0.8381\n",
      "Epoch 10/100\n",
      "25/25 [==============================] - 1s 42ms/step - loss: 4.7073 - accuracy: 0.8144 - val_loss: 4.6239 - val_accuracy: 0.8498\n",
      "Epoch 11/100\n",
      "25/25 [==============================] - 1s 42ms/step - loss: 4.6108 - accuracy: 0.8218 - val_loss: 4.5310 - val_accuracy: 0.8576\n",
      "Epoch 12/100\n",
      "25/25 [==============================] - 1s 39ms/step - loss: 4.5203 - accuracy: 0.8348 - val_loss: 4.4441 - val_accuracy: 0.8646\n",
      "Epoch 13/100\n",
      "25/25 [==============================] - 1s 41ms/step - loss: 4.4366 - accuracy: 0.8404 - val_loss: 4.3641 - val_accuracy: 0.8656\n",
      "Epoch 14/100\n",
      "25/25 [==============================] - 1s 40ms/step - loss: 4.3616 - accuracy: 0.8460 - val_loss: 4.2919 - val_accuracy: 0.8659\n",
      "Epoch 15/100\n",
      "25/25 [==============================] - 1s 40ms/step - loss: 4.2878 - accuracy: 0.8504 - val_loss: 4.2206 - val_accuracy: 0.8683\n",
      "Epoch 16/100\n",
      "25/25 [==============================] - 1s 42ms/step - loss: 4.2180 - accuracy: 0.8559 - val_loss: 4.1535 - val_accuracy: 0.8742\n",
      "Epoch 17/100\n",
      "25/25 [==============================] - 1s 42ms/step - loss: 4.1489 - accuracy: 0.8637 - val_loss: 4.0917 - val_accuracy: 0.8708\n",
      "Epoch 18/100\n",
      "25/25 [==============================] - 1s 41ms/step - loss: 4.0834 - accuracy: 0.8687 - val_loss: 4.0283 - val_accuracy: 0.8758\n",
      "Epoch 19/100\n",
      "25/25 [==============================] - 1s 41ms/step - loss: 4.0241 - accuracy: 0.8716 - val_loss: 3.9694 - val_accuracy: 0.8789\n",
      "Epoch 20/100\n",
      "25/25 [==============================] - 1s 41ms/step - loss: 3.9660 - accuracy: 0.8715 - val_loss: 3.9141 - val_accuracy: 0.8769\n",
      "Epoch 21/100\n",
      "25/25 [==============================] - 1s 43ms/step - loss: 3.9043 - accuracy: 0.8790 - val_loss: 3.8573 - val_accuracy: 0.8790\n",
      "Epoch 22/100\n",
      "25/25 [==============================] - 1s 41ms/step - loss: 3.8471 - accuracy: 0.8802 - val_loss: 3.8020 - val_accuracy: 0.8816\n",
      "Epoch 23/100\n",
      "25/25 [==============================] - 1s 40ms/step - loss: 3.7880 - accuracy: 0.8862 - val_loss: 3.7486 - val_accuracy: 0.8810\n",
      "Epoch 24/100\n",
      "25/25 [==============================] - 1s 42ms/step - loss: 3.7343 - accuracy: 0.8863 - val_loss: 3.6959 - val_accuracy: 0.8818\n",
      "Epoch 25/100\n",
      "25/25 [==============================] - 1s 41ms/step - loss: 3.6786 - accuracy: 0.8894 - val_loss: 3.6454 - val_accuracy: 0.8809\n",
      "Epoch 26/100\n",
      "25/25 [==============================] - 1s 41ms/step - loss: 3.6296 - accuracy: 0.8880 - val_loss: 3.5962 - val_accuracy: 0.8811\n",
      "Epoch 27/100\n",
      "25/25 [==============================] - 1s 41ms/step - loss: 3.5750 - accuracy: 0.8910 - val_loss: 3.5466 - val_accuracy: 0.8808\n",
      "Epoch 28/100\n",
      "25/25 [==============================] - 1s 40ms/step - loss: 3.5269 - accuracy: 0.8939 - val_loss: 3.4991 - val_accuracy: 0.8815\n",
      "Epoch 29/100\n",
      "25/25 [==============================] - 1s 41ms/step - loss: 3.4754 - accuracy: 0.8965 - val_loss: 3.4519 - val_accuracy: 0.8824\n",
      "Epoch 30/100\n",
      "25/25 [==============================] - 1s 41ms/step - loss: 3.4257 - accuracy: 0.8975 - val_loss: 3.4045 - val_accuracy: 0.8834\n",
      "Epoch 31/100\n",
      "25/25 [==============================] - 1s 41ms/step - loss: 3.3803 - accuracy: 0.8970 - val_loss: 3.3592 - val_accuracy: 0.8842\n",
      "Epoch 32/100\n",
      "25/25 [==============================] - 1s 41ms/step - loss: 3.3294 - accuracy: 0.9019 - val_loss: 3.3141 - val_accuracy: 0.8830\n",
      "Epoch 33/100\n",
      "25/25 [==============================] - 1s 41ms/step - loss: 3.2880 - accuracy: 0.9012 - val_loss: 3.2708 - val_accuracy: 0.8839\n",
      "Epoch 34/100\n",
      "25/25 [==============================] - 1s 41ms/step - loss: 3.2379 - accuracy: 0.9045 - val_loss: 3.2267 - val_accuracy: 0.8839\n",
      "Epoch 35/100\n",
      "25/25 [==============================] - 1s 41ms/step - loss: 3.1927 - accuracy: 0.9067 - val_loss: 3.1833 - val_accuracy: 0.8839\n",
      "Epoch 36/100\n",
      "25/25 [==============================] - 1s 41ms/step - loss: 3.1498 - accuracy: 0.9060 - val_loss: 3.1415 - val_accuracy: 0.8839\n",
      "Epoch 37/100\n",
      "25/25 [==============================] - 1s 41ms/step - loss: 3.1081 - accuracy: 0.9058 - val_loss: 3.1005 - val_accuracy: 0.8841\n",
      "Epoch 38/100\n",
      "25/25 [==============================] - 1s 41ms/step - loss: 3.0623 - accuracy: 0.9082 - val_loss: 3.0600 - val_accuracy: 0.8839\n",
      "Epoch 39/100\n",
      "25/25 [==============================] - 1s 42ms/step - loss: 3.0214 - accuracy: 0.9087 - val_loss: 3.0204 - val_accuracy: 0.8839\n",
      "Epoch 40/100\n",
      "25/25 [==============================] - 1s 41ms/step - loss: 2.9791 - accuracy: 0.9121 - val_loss: 2.9795 - val_accuracy: 0.8844\n",
      "Epoch 41/100\n",
      "25/25 [==============================] - 1s 40ms/step - loss: 2.9374 - accuracy: 0.9123 - val_loss: 2.9406 - val_accuracy: 0.8850\n",
      "Epoch 42/100\n",
      "25/25 [==============================] - 1s 41ms/step - loss: 2.9009 - accuracy: 0.9119 - val_loss: 2.9036 - val_accuracy: 0.8843\n",
      "Epoch 43/100\n",
      "25/25 [==============================] - 1s 42ms/step - loss: 2.8590 - accuracy: 0.9115 - val_loss: 2.8652 - val_accuracy: 0.8850\n",
      "Epoch 44/100\n",
      "25/25 [==============================] - 1s 41ms/step - loss: 2.8194 - accuracy: 0.9145 - val_loss: 2.8273 - val_accuracy: 0.8850\n",
      "Epoch 45/100\n",
      "25/25 [==============================] - 1s 41ms/step - loss: 2.7800 - accuracy: 0.9150 - val_loss: 2.7909 - val_accuracy: 0.8846\n",
      "Epoch 46/100\n",
      "25/25 [==============================] - 1s 40ms/step - loss: 2.7447 - accuracy: 0.9148 - val_loss: 2.7552 - val_accuracy: 0.8847\n",
      "Epoch 47/100\n",
      "25/25 [==============================] - 1s 41ms/step - loss: 2.7059 - accuracy: 0.9163 - val_loss: 2.7197 - val_accuracy: 0.8852\n",
      "Epoch 48/100\n",
      "25/25 [==============================] - 1s 42ms/step - loss: 2.6707 - accuracy: 0.9152 - val_loss: 2.6852 - val_accuracy: 0.8848\n",
      "Epoch 49/100\n",
      "25/25 [==============================] - 1s 42ms/step - loss: 2.6335 - accuracy: 0.9165 - val_loss: 2.6507 - val_accuracy: 0.8846\n",
      "Epoch 50/100\n",
      "25/25 [==============================] - 1s 41ms/step - loss: 2.5978 - accuracy: 0.9196 - val_loss: 2.6179 - val_accuracy: 0.8840\n",
      "Epoch 51/100\n",
      "25/25 [==============================] - 1s 42ms/step - loss: 2.5640 - accuracy: 0.9206 - val_loss: 2.5833 - val_accuracy: 0.8844\n",
      "Epoch 52/100\n",
      "25/25 [==============================] - 1s 42ms/step - loss: 2.5293 - accuracy: 0.9198 - val_loss: 2.5499 - val_accuracy: 0.8846\n",
      "Epoch 53/100\n",
      "25/25 [==============================] - 1s 41ms/step - loss: 2.4946 - accuracy: 0.9202 - val_loss: 2.5172 - val_accuracy: 0.8846\n",
      "Epoch 54/100\n",
      "25/25 [==============================] - 1s 42ms/step - loss: 2.4621 - accuracy: 0.9212 - val_loss: 2.4859 - val_accuracy: 0.8838\n",
      "Epoch 55/100\n",
      "25/25 [==============================] - 1s 40ms/step - loss: 2.4282 - accuracy: 0.9226 - val_loss: 2.4543 - val_accuracy: 0.8842\n",
      "Epoch 56/100\n",
      "25/25 [==============================] - 1s 42ms/step - loss: 2.3966 - accuracy: 0.9220 - val_loss: 2.4233 - val_accuracy: 0.8844\n",
      "Epoch 57/100\n",
      "25/25 [==============================] - 1s 43ms/step - loss: 2.3622 - accuracy: 0.9209 - val_loss: 2.3928 - val_accuracy: 0.8843\n",
      "Epoch 58/100\n",
      "25/25 [==============================] - 1s 41ms/step - loss: 2.3318 - accuracy: 0.9233 - val_loss: 2.3623 - val_accuracy: 0.8840\n",
      "Epoch 59/100\n",
      "25/25 [==============================] - 1s 41ms/step - loss: 2.3016 - accuracy: 0.9243 - val_loss: 2.3327 - val_accuracy: 0.8846\n",
      "Epoch 60/100\n",
      "25/25 [==============================] - 1s 42ms/step - loss: 2.2703 - accuracy: 0.9256 - val_loss: 2.3042 - val_accuracy: 0.8839\n",
      "Epoch 61/100\n",
      "25/25 [==============================] - 1s 42ms/step - loss: 2.2392 - accuracy: 0.9255 - val_loss: 2.2753 - val_accuracy: 0.8846\n",
      "Epoch 62/100\n",
      "25/25 [==============================] - 1s 42ms/step - loss: 2.2112 - accuracy: 0.9260 - val_loss: 2.2465 - val_accuracy: 0.8847\n",
      "Epoch 63/100\n",
      "25/25 [==============================] - 1s 41ms/step - loss: 2.1816 - accuracy: 0.9258 - val_loss: 2.2194 - val_accuracy: 0.8837\n",
      "Epoch 64/100\n",
      "25/25 [==============================] - 1s 41ms/step - loss: 2.1550 - accuracy: 0.9271 - val_loss: 2.1916 - val_accuracy: 0.8842\n",
      "Epoch 65/100\n",
      "25/25 [==============================] - 1s 41ms/step - loss: 2.1233 - accuracy: 0.9280 - val_loss: 2.1649 - val_accuracy: 0.8842\n",
      "Epoch 66/100\n",
      "25/25 [==============================] - 1s 43ms/step - loss: 2.0981 - accuracy: 0.9254 - val_loss: 2.1379 - val_accuracy: 0.8840\n",
      "Epoch 67/100\n",
      "25/25 [==============================] - 1s 41ms/step - loss: 2.0717 - accuracy: 0.9280 - val_loss: 2.1117 - val_accuracy: 0.8842\n",
      "Epoch 68/100\n",
      "25/25 [==============================] - 1s 41ms/step - loss: 2.0420 - accuracy: 0.9281 - val_loss: 2.0855 - val_accuracy: 0.8846\n",
      "Epoch 69/100\n",
      "25/25 [==============================] - 1s 43ms/step - loss: 2.0169 - accuracy: 0.9287 - val_loss: 2.0601 - val_accuracy: 0.8838\n",
      "Epoch 70/100\n",
      "25/25 [==============================] - 1s 42ms/step - loss: 1.9895 - accuracy: 0.9306 - val_loss: 2.0352 - val_accuracy: 0.8835\n",
      "Epoch 71/100\n",
      "25/25 [==============================] - 1s 41ms/step - loss: 1.9632 - accuracy: 0.9302 - val_loss: 2.0102 - val_accuracy: 0.8837\n",
      "Epoch 72/100\n",
      "25/25 [==============================] - 1s 41ms/step - loss: 1.9367 - accuracy: 0.9320 - val_loss: 1.9859 - val_accuracy: 0.8829\n",
      "Epoch 73/100\n",
      "25/25 [==============================] - 1s 41ms/step - loss: 1.9116 - accuracy: 0.9318 - val_loss: 1.9615 - val_accuracy: 0.8836\n",
      "Epoch 74/100\n",
      "25/25 [==============================] - 1s 41ms/step - loss: 1.8885 - accuracy: 0.9297 - val_loss: 1.9381 - val_accuracy: 0.8832\n",
      "Epoch 75/100\n",
      "25/25 [==============================] - 1s 41ms/step - loss: 1.8646 - accuracy: 0.9308 - val_loss: 1.9145 - val_accuracy: 0.8832\n",
      "Epoch 76/100\n",
      "25/25 [==============================] - 1s 40ms/step - loss: 1.8416 - accuracy: 0.9306 - val_loss: 1.8918 - val_accuracy: 0.8839\n",
      "Epoch 77/100\n",
      "25/25 [==============================] - 1s 40ms/step - loss: 1.8167 - accuracy: 0.9312 - val_loss: 1.8691 - val_accuracy: 0.8839\n",
      "Epoch 78/100\n",
      "25/25 [==============================] - 1s 41ms/step - loss: 1.7933 - accuracy: 0.9322 - val_loss: 1.8471 - val_accuracy: 0.8834\n",
      "Epoch 79/100\n",
      "25/25 [==============================] - 1s 40ms/step - loss: 1.7692 - accuracy: 0.9324 - val_loss: 1.8251 - val_accuracy: 0.8838\n",
      "Epoch 80/100\n",
      "25/25 [==============================] - 1s 42ms/step - loss: 1.7485 - accuracy: 0.9310 - val_loss: 1.8049 - val_accuracy: 0.8824\n",
      "Epoch 81/100\n",
      "25/25 [==============================] - 1s 40ms/step - loss: 1.7264 - accuracy: 0.9326 - val_loss: 1.7831 - val_accuracy: 0.8830\n",
      "Epoch 82/100\n",
      "25/25 [==============================] - 1s 42ms/step - loss: 1.7054 - accuracy: 0.9326 - val_loss: 1.7620 - val_accuracy: 0.8830\n",
      "Epoch 83/100\n",
      "25/25 [==============================] - 1s 41ms/step - loss: 1.6836 - accuracy: 0.9330 - val_loss: 1.7416 - val_accuracy: 0.8828\n",
      "Epoch 84/100\n",
      "25/25 [==============================] - 1s 41ms/step - loss: 1.6603 - accuracy: 0.9326 - val_loss: 1.7216 - val_accuracy: 0.8821\n",
      "Epoch 85/100\n",
      "25/25 [==============================] - 1s 41ms/step - loss: 1.6404 - accuracy: 0.9345 - val_loss: 1.7007 - val_accuracy: 0.8832\n",
      "Epoch 86/100\n",
      "25/25 [==============================] - 1s 41ms/step - loss: 1.6203 - accuracy: 0.9340 - val_loss: 1.6810 - val_accuracy: 0.8828\n",
      "Epoch 87/100\n",
      "25/25 [==============================] - 1s 41ms/step - loss: 1.5995 - accuracy: 0.9349 - val_loss: 1.6615 - val_accuracy: 0.8827\n",
      "Epoch 88/100\n",
      "25/25 [==============================] - 1s 40ms/step - loss: 1.5803 - accuracy: 0.9338 - val_loss: 1.6427 - val_accuracy: 0.8831\n",
      "Epoch 89/100\n",
      "25/25 [==============================] - 1s 41ms/step - loss: 1.5590 - accuracy: 0.9328 - val_loss: 1.6244 - val_accuracy: 0.8824\n",
      "Epoch 90/100\n",
      "25/25 [==============================] - 1s 41ms/step - loss: 1.5414 - accuracy: 0.9350 - val_loss: 1.6052 - val_accuracy: 0.8825\n",
      "Epoch 91/100\n",
      "25/25 [==============================] - 1s 42ms/step - loss: 1.5219 - accuracy: 0.9350 - val_loss: 1.5867 - val_accuracy: 0.8832\n",
      "Epoch 92/100\n",
      "25/25 [==============================] - 1s 41ms/step - loss: 1.5030 - accuracy: 0.9350 - val_loss: 1.5685 - val_accuracy: 0.8826\n",
      "Epoch 93/100\n",
      "25/25 [==============================] - 1s 41ms/step - loss: 1.4849 - accuracy: 0.9364 - val_loss: 1.5508 - val_accuracy: 0.8824\n",
      "Epoch 94/100\n",
      "25/25 [==============================] - 1s 41ms/step - loss: 1.4689 - accuracy: 0.9344 - val_loss: 1.5343 - val_accuracy: 0.8824\n",
      "Epoch 95/100\n",
      "25/25 [==============================] - 1s 41ms/step - loss: 1.4496 - accuracy: 0.9356 - val_loss: 1.5178 - val_accuracy: 0.8826\n",
      "Epoch 96/100\n",
      "25/25 [==============================] - 1s 41ms/step - loss: 1.4332 - accuracy: 0.9353 - val_loss: 1.5011 - val_accuracy: 0.8813\n",
      "Epoch 97/100\n",
      "25/25 [==============================] - 1s 41ms/step - loss: 1.4159 - accuracy: 0.9351 - val_loss: 1.4843 - val_accuracy: 0.8817\n",
      "Epoch 98/100\n",
      "25/25 [==============================] - 1s 41ms/step - loss: 1.3976 - accuracy: 0.9361 - val_loss: 1.4672 - val_accuracy: 0.8822\n",
      "Epoch 99/100\n",
      "25/25 [==============================] - 1s 40ms/step - loss: 1.3801 - accuracy: 0.9368 - val_loss: 1.4508 - val_accuracy: 0.8836\n",
      "Epoch 100/100\n",
      "25/25 [==============================] - 1s 41ms/step - loss: 1.3650 - accuracy: 0.9360 - val_loss: 1.4346 - val_accuracy: 0.8832\n"
     ]
    }
   ],
   "source": [
    "history2 = model2.fit(X_train,\n",
    "                   y_train,\n",
    "                   epochs=100,\n",
    "                   batch_size=1024,\n",
    "                   validation_data=(X_test, y_test),\n",
    "                   callbacks=[tf.keras.callbacks.EarlyStopping(patience=0)])\n",
    "end_time = time.time()"
   ]
  },
  {
   "cell_type": "code",
   "execution_count": 26,
   "metadata": {
    "colab": {
     "base_uri": "https://localhost:8080/",
     "height": 750
    },
    "id": "y4rNT5rUQLsN",
    "outputId": "cc912877-42ae-4e4e-d56a-dffcd8a947e1"
   },
   "outputs": [
    {
     "name": "stdout",
     "output_type": "stream",
     "text": [
      "782/782 [==============================] - 3s 3ms/step - loss: 1.4346 - accuracy: 0.8832\n",
      "Accuracy : 0.8832399845123291\n",
      "Loss     : 1.4345723390579224\n"
     ]
    },
    {
     "data": {
      "image/png": "[encoded data removed]",
      "text/plain": [
       "<Figure size 360x360 with 1 Axes>"
      ]
     },
     "metadata": {
      "needs_background": "light",
      "tags": []
     },
     "output_type": "display_data"
    },
    {
     "data": {
      "image/png": "[encoded data removed]",
      "text/plain": [
       "<Figure size 360x360 with 1 Axes>"
      ]
     },
     "metadata": {
      "needs_background": "light",
      "tags": []
     },
     "output_type": "display_data"
    },
    {
     "name": "stdout",
     "output_type": "stream",
     "text": [
      "Time taken to train: 107.73941111564636 seconds\n"
     ]
    }
   ],
   "source": [
    "loss, accuracy = model2.evaluate(X_test,y_test)\n",
    "print(f\"Accuracy : {accuracy}\")\n",
    "print(f\"Loss     : {loss}\")\n",
    "plot_learning_progress_loss(history2)\n",
    "plot_learning_progress_accuracy(history2)\n",
    "print(\"Time taken to train: %s seconds\" % (end_time - start_time))\t"
   ]
  },
  {
   "cell_type": "code",
   "execution_count": 27,
   "metadata": {
    "colab": {
     "base_uri": "https://localhost:8080/",
     "height": 662
    },
    "id": "9pTDCJ9lQPPF",
    "outputId": "89d9f830-98a2-46f9-da26-e96dbe06fd1f"
   },
   "outputs": [
    {
     "name": "stdout",
     "output_type": "stream",
     "text": [
      "tf.Tensor(\n",
      "[[11042  1458]\n",
      " [ 1461 11039]], shape=(2, 2), dtype=int32)\n",
      "\n",
      "Classification Report\n",
      "\n",
      "              precision    recall  f1-score   support\n",
      "\n",
      "    Negative       0.88      0.88      0.88     12500\n",
      "    Positive       0.88      0.88      0.88     12500\n",
      "\n",
      "    accuracy                           0.88     25000\n",
      "   macro avg       0.88      0.88      0.88     25000\n",
      "weighted avg       0.88      0.88      0.88     25000\n",
      "\n"
     ]
    },
    {
     "data": {
      "image/png": "[encoded data removed]",
      "text/plain": [
       "<Figure size 504x504 with 2 Axes>"
      ]
     },
     "metadata": {
      "needs_background": "light",
      "tags": []
     },
     "output_type": "display_data"
    }
   ],
   "source": [
    "display_model_performance(model2,X_test,y_test,display_labels=imdb_labels)"
   ]
  },
  {
   "cell_type": "markdown",
   "metadata": {
    "id": "rHAydmUgSKnA"
   },
   "source": [
    "# Model#3\n",
    "## Trained model without regularization\n",
    "\n",
    "Below we have trained model without regularization. We observed that training accuracy could go as high as 95% and was increasing even further. However validation accuracy got stuck at 88%. There is clearly overfitting happening here. **bold text**"
   ]
  },
  {
   "cell_type": "code",
   "execution_count": 28,
   "metadata": {
    "id": "87x5Sk6HR1uN"
   },
   "outputs": [],
   "source": [
    "def get_regularized_model3(wd,rate):\n",
    "    model=tf.keras.models.Sequential([tf.keras.layers.Dense(5,kernel_initializer='he_normal', activation='relu',input_shape=(10000,)),\n",
    "                                  tf.keras.layers.Dense(10,kernel_initializer='he_normal',activation='relu'),\n",
    "                                  tf.keras.layers.Dense(10,kernel_initializer='he_normal',activation='relu'),\n",
    "                                  tf.keras.layers.Dense(10,kernel_initializer='he_normal',activation='relu'),\n",
    "                                  tf.keras.layers.Dense(1,kernel_initializer='he_normal',activation='sigmoid')])\n",
    "    return model"
   ]
  },
  {
   "cell_type": "code",
   "execution_count": 29,
   "metadata": {
    "id": "7_rX7hjsSUHX"
   },
   "outputs": [],
   "source": [
    "model3 = get_regularized_model3(0.02,0.5)"
   ]
  },
  {
   "cell_type": "code",
   "execution_count": 30,
   "metadata": {
    "colab": {
     "base_uri": "https://localhost:8080/",
     "height": 319
    },
    "id": "C431DVgTjldO",
    "outputId": "10fe1a70-aa12-4f60-f3b2-f89c292a404f"
   },
   "outputs": [
    {
     "name": "stdout",
     "output_type": "stream",
     "text": [
      "Model: \"sequential_2\"\n",
      "_________________________________________________________________\n",
      "Layer (type)                 Output Shape              Param #   \n",
      "=================================================================\n",
      "dense_11 (Dense)             (None, 5)                 50005     \n",
      "_________________________________________________________________\n",
      "dense_12 (Dense)             (None, 10)                60        \n",
      "_________________________________________________________________\n",
      "dense_13 (Dense)             (None, 10)                110       \n",
      "_________________________________________________________________\n",
      "dense_14 (Dense)             (None, 10)                110       \n",
      "_________________________________________________________________\n",
      "dense_15 (Dense)             (None, 1)                 11        \n",
      "=================================================================\n",
      "Total params: 50,296\n",
      "Trainable params: 50,296\n",
      "Non-trainable params: 0\n",
      "_________________________________________________________________\n"
     ]
    }
   ],
   "source": [
    "model3.summary()"
   ]
  },
  {
   "cell_type": "code",
   "execution_count": 31,
   "metadata": {
    "id": "uQFjPZXuSh5v"
   },
   "outputs": [],
   "source": [
    "model3.compile(optimizer=tf.optimizers.Adam(learning_rate=0.0001),\n",
    "              loss=tf.keras.losses.BinaryCrossentropy(),\n",
    "              metrics=['accuracy'])\n",
    "start_time = time.time()"
   ]
  },
  {
   "cell_type": "code",
   "execution_count": 32,
   "metadata": {
    "colab": {
     "base_uri": "https://localhost:8080/",
     "height": 1000
    },
    "id": "iGb-wxh6Sp_y",
    "outputId": "197c2c24-ead2-4ce0-e3ed-288fba9a30fa"
   },
   "outputs": [
    {
     "name": "stdout",
     "output_type": "stream",
     "text": [
      "Epoch 1/100\n",
      "25/25 [==============================] - 2s 64ms/step - loss: 0.6933 - accuracy: 0.5028 - val_loss: 0.6925 - val_accuracy: 0.5222\n",
      "Epoch 2/100\n",
      "25/25 [==============================] - 1s 40ms/step - loss: 0.6901 - accuracy: 0.5588 - val_loss: 0.6889 - val_accuracy: 0.5635\n",
      "Epoch 3/100\n",
      "25/25 [==============================] - 1s 40ms/step - loss: 0.6811 - accuracy: 0.5915 - val_loss: 0.6740 - val_accuracy: 0.6242\n",
      "Epoch 4/100\n",
      "25/25 [==============================] - 1s 41ms/step - loss: 0.6593 - accuracy: 0.6876 - val_loss: 0.6516 - val_accuracy: 0.7137\n",
      "Epoch 5/100\n",
      "25/25 [==============================] - 1s 40ms/step - loss: 0.6329 - accuracy: 0.7473 - val_loss: 0.6275 - val_accuracy: 0.7635\n",
      "Epoch 6/100\n",
      "25/25 [==============================] - 1s 40ms/step - loss: 0.6040 - accuracy: 0.7910 - val_loss: 0.6014 - val_accuracy: 0.7818\n",
      "Epoch 7/100\n",
      "25/25 [==============================] - 1s 40ms/step - loss: 0.5729 - accuracy: 0.8216 - val_loss: 0.5739 - val_accuracy: 0.8008\n",
      "Epoch 8/100\n",
      "25/25 [==============================] - 1s 41ms/step - loss: 0.5402 - accuracy: 0.8496 - val_loss: 0.5450 - val_accuracy: 0.8249\n",
      "Epoch 9/100\n",
      "25/25 [==============================] - 1s 42ms/step - loss: 0.5072 - accuracy: 0.8690 - val_loss: 0.5165 - val_accuracy: 0.8429\n",
      "Epoch 10/100\n",
      "25/25 [==============================] - 1s 40ms/step - loss: 0.4746 - accuracy: 0.8826 - val_loss: 0.4895 - val_accuracy: 0.8580\n",
      "Epoch 11/100\n",
      "25/25 [==============================] - 1s 41ms/step - loss: 0.4437 - accuracy: 0.8942 - val_loss: 0.4640 - val_accuracy: 0.8627\n",
      "Epoch 12/100\n",
      "25/25 [==============================] - 1s 40ms/step - loss: 0.4152 - accuracy: 0.9026 - val_loss: 0.4409 - val_accuracy: 0.8664\n",
      "Epoch 13/100\n",
      "25/25 [==============================] - 1s 40ms/step - loss: 0.3893 - accuracy: 0.9075 - val_loss: 0.4204 - val_accuracy: 0.8715\n",
      "Epoch 14/100\n",
      "25/25 [==============================] - 1s 40ms/step - loss: 0.3657 - accuracy: 0.9123 - val_loss: 0.4022 - val_accuracy: 0.8743\n",
      "Epoch 15/100\n",
      "25/25 [==============================] - 1s 41ms/step - loss: 0.3446 - accuracy: 0.9160 - val_loss: 0.3869 - val_accuracy: 0.8764\n",
      "Epoch 16/100\n",
      "25/25 [==============================] - 1s 41ms/step - loss: 0.3256 - accuracy: 0.9194 - val_loss: 0.3725 - val_accuracy: 0.8779\n",
      "Epoch 17/100\n",
      "25/25 [==============================] - 1s 40ms/step - loss: 0.3085 - accuracy: 0.9232 - val_loss: 0.3601 - val_accuracy: 0.8784\n",
      "Epoch 18/100\n",
      "25/25 [==============================] - 1s 42ms/step - loss: 0.2931 - accuracy: 0.9252 - val_loss: 0.3495 - val_accuracy: 0.8805\n",
      "Epoch 19/100\n",
      "25/25 [==============================] - 1s 40ms/step - loss: 0.2791 - accuracy: 0.9281 - val_loss: 0.3400 - val_accuracy: 0.8816\n",
      "Epoch 20/100\n",
      "25/25 [==============================] - 1s 41ms/step - loss: 0.2665 - accuracy: 0.9305 - val_loss: 0.3320 - val_accuracy: 0.8825\n",
      "Epoch 21/100\n",
      "25/25 [==============================] - 1s 40ms/step - loss: 0.2554 - accuracy: 0.9312 - val_loss: 0.3250 - val_accuracy: 0.8828\n",
      "Epoch 22/100\n",
      "25/25 [==============================] - 1s 40ms/step - loss: 0.2451 - accuracy: 0.9344 - val_loss: 0.3191 - val_accuracy: 0.8832\n",
      "Epoch 23/100\n",
      "25/25 [==============================] - 1s 39ms/step - loss: 0.2357 - accuracy: 0.9356 - val_loss: 0.3140 - val_accuracy: 0.8838\n",
      "Epoch 24/100\n",
      "25/25 [==============================] - 1s 41ms/step - loss: 0.2273 - accuracy: 0.9376 - val_loss: 0.3097 - val_accuracy: 0.8840\n",
      "Epoch 25/100\n",
      "25/25 [==============================] - 1s 40ms/step - loss: 0.2194 - accuracy: 0.9389 - val_loss: 0.3061 - val_accuracy: 0.8844\n",
      "Epoch 26/100\n",
      "25/25 [==============================] - 1s 40ms/step - loss: 0.2121 - accuracy: 0.9410 - val_loss: 0.3036 - val_accuracy: 0.8845\n",
      "Epoch 27/100\n",
      "25/25 [==============================] - 1s 41ms/step - loss: 0.2054 - accuracy: 0.9426 - val_loss: 0.3013 - val_accuracy: 0.8844\n",
      "Epoch 28/100\n",
      "25/25 [==============================] - 1s 40ms/step - loss: 0.1992 - accuracy: 0.9439 - val_loss: 0.2983 - val_accuracy: 0.8848\n",
      "Epoch 29/100\n",
      "25/25 [==============================] - 1s 40ms/step - loss: 0.1934 - accuracy: 0.9451 - val_loss: 0.2970 - val_accuracy: 0.8840\n",
      "Epoch 30/100\n",
      "25/25 [==============================] - 1s 40ms/step - loss: 0.1879 - accuracy: 0.9464 - val_loss: 0.2954 - val_accuracy: 0.8841\n",
      "Epoch 31/100\n",
      "25/25 [==============================] - 1s 42ms/step - loss: 0.1828 - accuracy: 0.9477 - val_loss: 0.2948 - val_accuracy: 0.8837\n",
      "Epoch 32/100\n",
      "25/25 [==============================] - 1s 41ms/step - loss: 0.1779 - accuracy: 0.9492 - val_loss: 0.2933 - val_accuracy: 0.8844\n",
      "Epoch 33/100\n",
      "25/25 [==============================] - 1s 42ms/step - loss: 0.1732 - accuracy: 0.9506 - val_loss: 0.2932 - val_accuracy: 0.8839\n",
      "Epoch 34/100\n",
      "25/25 [==============================] - 1s 43ms/step - loss: 0.1687 - accuracy: 0.9517 - val_loss: 0.2929 - val_accuracy: 0.8840\n",
      "Epoch 35/100\n",
      "25/25 [==============================] - 1s 41ms/step - loss: 0.1647 - accuracy: 0.9530 - val_loss: 0.2931 - val_accuracy: 0.8835\n"
     ]
    }
   ],
   "source": [
    "history3 = model3.fit(X_train,\n",
    "                   y_train,\n",
    "                   epochs=100,\n",
    "                   batch_size=1024,\n",
    "                   validation_data=(X_test, y_test),\n",
    "                   callbacks=[tf.keras.callbacks.EarlyStopping(patience=0)])\n",
    "end_time = time.time()"
   ]
  },
  {
   "cell_type": "code",
   "execution_count": 33,
   "metadata": {
    "colab": {
     "base_uri": "https://localhost:8080/",
     "height": 750
    },
    "id": "W9Te-dreSrtS",
    "outputId": "cde6817d-6455-4e98-b8a9-3ce036790a8f"
   },
   "outputs": [
    {
     "name": "stdout",
     "output_type": "stream",
     "text": [
      "782/782 [==============================] - 3s 3ms/step - loss: 0.2931 - accuracy: 0.8835\n",
      "Accuracy : 0.8834800124168396\n",
      "Loss     : 0.29314881563186646\n"
     ]
    },
    {
     "data": {
      "image/png": "[encoded data removed]",
      "text/plain": [
       "<Figure size 360x360 with 1 Axes>"
      ]
     },
     "metadata": {
      "needs_background": "light",
      "tags": []
     },
     "output_type": "display_data"
    },
    {
     "data": {
      "image/png": "[encoded data removed]",
      "text/plain": [
       "<Figure size 360x360 with 1 Axes>"
      ]
     },
     "metadata": {
      "needs_background": "light",
      "tags": []
     },
     "output_type": "display_data"
    },
    {
     "name": "stdout",
     "output_type": "stream",
     "text": [
      "Time taken to train: 38.15799140930176 seconds\n"
     ]
    }
   ],
   "source": [
    "loss, accuracy = model3.evaluate(X_test,y_test)\n",
    "print(f\"Accuracy : {accuracy}\")\n",
    "print(f\"Loss     : {loss}\")\n",
    "plot_learning_progress_loss(history3)\n",
    "plot_learning_progress_accuracy(history3)\n",
    "print(\"Time taken to train: %s seconds\" % (end_time - start_time))\t"
   ]
  },
  {
   "cell_type": "code",
   "execution_count": 34,
   "metadata": {
    "colab": {
     "base_uri": "https://localhost:8080/",
     "height": 662
    },
    "id": "NXBs6HeLStmD",
    "outputId": "790ad1b1-b2cf-46c7-bcbe-dd0f6a2f8a79"
   },
   "outputs": [
    {
     "name": "stdout",
     "output_type": "stream",
     "text": [
      "tf.Tensor(\n",
      "[[11138  1362]\n",
      " [ 1551 10949]], shape=(2, 2), dtype=int32)\n",
      "\n",
      "Classification Report\n",
      "\n",
      "              precision    recall  f1-score   support\n",
      "\n",
      "    Negative       0.88      0.89      0.88     12500\n",
      "    Positive       0.89      0.88      0.88     12500\n",
      "\n",
      "    accuracy                           0.88     25000\n",
      "   macro avg       0.88      0.88      0.88     25000\n",
      "weighted avg       0.88      0.88      0.88     25000\n",
      "\n"
     ]
    },
    {
     "data": {
      "image/png": "[encoded data removed]",
      "text/plain": [
       "<Figure size 504x504 with 2 Axes>"
      ]
     },
     "metadata": {
      "needs_background": "light",
      "tags": []
     },
     "output_type": "display_data"
    }
   ],
   "source": [
    "display_model_performance(model3,X_test,y_test,display_labels=imdb_labels)"
   ]
  },
  {
   "cell_type": "markdown",
   "metadata": {
    "id": "abJWssgbmvJ1"
   },
   "source": [
    "## 9. Comparison of models\n",
    "\n",
    "### Between model#1 and model#2\n",
    "Model#1 is lower complexity model compared to model#2 (in terms number of hidden layers and # of units per hidden layer). Both of them achieved similar accuracy. However model#2 was overfitting and had further scope for fine tuning regularization parameters.\n",
    "\n",
    "\n",
    "### Between model#1 and model#3 \n",
    "Model#3 did not have any regularization and was clearly overfitting. The training accuracy could go as high as 94% however validation accuracy could not exceed 88%. Compared to this model% was not overfitting with both train and validation accuracy graphs close to each other.\n",
    "\n",
    "### Comparison with state of art\n",
    "Using recent advance learning technique, 97.4 accuracy has been achieved using \"NB-weighted-BON + dv-cosine\" model. A paper was pubished with title - \"Sentiment Classification Using Document Embeddings Trained with Cosine Similarity\"\n",
    "(Source: https://paperswithcode.com/paper/sentiment-classification-using-document)\n",
    "With neural network architecture, Graph Star Net for Generalized Multi-Task Learning got 96% accuracy. (Source: https://paperswithcode.com/paper/graph-star-net-for-generalized-multi-task-1)"
   ]
  },
  {
   "cell_type": "markdown",
   "metadata": {
    "id": "UsJe_cmyKpd9"
   },
   "source": [
    "-----------------------------------------------------------------------------------------------------------------------------The End---------------------------------------------------------------------------------------------"
   ]
  }
 ],
 "metadata": {
  "accelerator": "GPU",
  "colab": {
   "collapsed_sections": [],
   "name": "IMDB-50Kv2.0.ipynb",
   "provenance": []
  },
  "kernelspec": {
   "display_name": "Python 3",
   "language": "python",
   "name": "python3"
  },
  "language_info": {
   "codemirror_mode": {
    "name": "ipython",
    "version": 3
   },
   "file_extension": ".py",
   "mimetype": "text/x-python",
   "name": "python",
   "nbconvert_exporter": "python",
   "pygments_lexer": "ipython3",
   "version": "3.7.3"
  }
 },
 "nbformat": 4,
 "nbformat_minor": 1
}
